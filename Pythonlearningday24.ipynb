{
  "nbformat": 4,
  "nbformat_minor": 0,
  "metadata": {
    "colab": {
      "provenance": []
    },
    "kernelspec": {
      "name": "python3",
      "display_name": "Python 3"
    },
    "language_info": {
      "name": "python"
    }
  },
  "cells": [
    {
      "cell_type": "code",
      "execution_count": null,
      "metadata": {
        "id": "jUrHGvx5BIuj"
      },
      "outputs": [],
      "source": [
        "# _ (protected)\n",
        "# __ (private)"
      ]
    },
    {
      "cell_type": "code",
      "source": [
        "# abstraction\n",
        "# to hide unwanted details"
      ],
      "metadata": {
        "id": "VQ0iBxhyBYPB"
      },
      "execution_count": null,
      "outputs": []
    },
    {
      "cell_type": "code",
      "source": [
        "class Animal:\n",
        "  def legs(self):\n",
        "    print(\"Animals have 4 legs\")\n",
        "\n",
        "class Spider(Animal):\n",
        "  def legs(self):\n",
        "    print(\"Spider have 8 legs\")\n",
        "\n",
        "  def work(self):\n",
        "    print(\"Spider created it's own web\")"
      ],
      "metadata": {
        "id": "GpfOcvI4BzR_"
      },
      "execution_count": null,
      "outputs": []
    },
    {
      "cell_type": "code",
      "source": [
        "a1=Animal()\n",
        "a1.legs()"
      ],
      "metadata": {
        "colab": {
          "base_uri": "https://localhost:8080/"
        },
        "id": "swUj9E8MCCML",
        "outputId": "a769bf7f-6aad-4f25-cd8c-825e65abee4c"
      },
      "execution_count": null,
      "outputs": [
        {
          "output_type": "stream",
          "name": "stdout",
          "text": [
            "Animals have 4 legs\n"
          ]
        }
      ]
    },
    {
      "cell_type": "code",
      "source": [
        "s1=Spider()\n",
        "s1.legs()"
      ],
      "metadata": {
        "colab": {
          "base_uri": "https://localhost:8080/"
        },
        "id": "BD8b81w2EnwA",
        "outputId": "da10c034-2974-441c-c994-7e8c91dbf8ef"
      },
      "execution_count": null,
      "outputs": [
        {
          "output_type": "stream",
          "name": "stdout",
          "text": [
            "Spider have 8 legs\n"
          ]
        }
      ]
    },
    {
      "cell_type": "code",
      "source": [
        "from abc import ABC,abstractmethod   # abstract base class\n",
        "# every abstract class has abstract method\n",
        "# abstract method=> implementation hum provide nhi karte\n",
        "# abstract method will be implemented into child class and it's compulosry\n",
        "class Animal(ABC):\n",
        "  @abstractmethod\n",
        "  def legs(self):\n",
        "    pass\n",
        "\n",
        "class Spider(Animal):\n",
        "  def legs(self):\n",
        "    print(\"Spider have 8 legs\")\n",
        "\n",
        "  def work(self):\n",
        "    print(\"Spider created it's own web\")"
      ],
      "metadata": {
        "id": "E70voUp3CGd9"
      },
      "execution_count": null,
      "outputs": []
    },
    {
      "cell_type": "code",
      "source": [
        "s1=Spider()\n",
        "s1.legs()\n",
        "s1.work()"
      ],
      "metadata": {
        "colab": {
          "base_uri": "https://localhost:8080/"
        },
        "id": "ikxz7oM9FNNA",
        "outputId": "2b9c737f-f2ee-49e4-8e70-a65936fd30b2"
      },
      "execution_count": null,
      "outputs": [
        {
          "output_type": "stream",
          "name": "stdout",
          "text": [
            "Spider have 8 legs\n",
            "Spider created it's own web\n"
          ]
        }
      ]
    },
    {
      "cell_type": "code",
      "source": [
        "from abc import ABC,abstractmethod\n",
        "'''\n",
        "if you want to acheive abstraction\n",
        "make sure you have abstract method\n",
        "to have abstract method create it instide=> abstract class\n",
        "to have abstract class you should inherit ABC ( abstract base class )\n",
        "\n",
        "* abstract class can't be instantiated(object nhi bana sakte\n",
        "sirf use kr sakte hai inside the child class)\n",
        "* abstract class work as blue for all child classes\n",
        "* abstract method ko implemenet krna hai child class\n",
        "( nahi kiya child class mai=> ERROR dega\n",
        "   in case implement/override=> no Error)\n",
        "'''\n",
        "class Animal(ABC):\n",
        "  @abstractmethod\n",
        "  def legs(self):\n",
        "    pass\n",
        "  def breathe(self):\n",
        "    print(\"Animals do Breathe\")\n",
        "class Spider(Animal):\n",
        "  def legs(self):\n",
        "    print(\"Spider have 8 legs\")\n",
        "\n",
        "  def work(self):\n",
        "    print(\"Spider created it's own web\")"
      ],
      "metadata": {
        "id": "9YLFtmUDGQ9D"
      },
      "execution_count": null,
      "outputs": []
    },
    {
      "cell_type": "code",
      "source": [
        "s1=Spider()\n",
        "s1.breathe()\n",
        "s1.legs()"
      ],
      "metadata": {
        "colab": {
          "base_uri": "https://localhost:8080/"
        },
        "id": "-SAntcJbITIR",
        "outputId": "c2e97c79-327a-4700-9c12-f1386529d43f"
      },
      "execution_count": null,
      "outputs": [
        {
          "output_type": "stream",
          "name": "stdout",
          "text": [
            "Animals do Breathe\n",
            "Spider have 8 legs\n"
          ]
        }
      ]
    },
    {
      "cell_type": "code",
      "source": [
        "class BankAccount:\n",
        "  def __init__(self,accountNo,amount):\n",
        "    self.accountNo=accountNo\n",
        "    self.amount=amount\n",
        "\n",
        "  def deposit(self,deposit_amount):\n",
        "    if deposit_amount>0:\n",
        "     self.amount+=deposit_amount\n",
        "     print(f\"Amount {deposit_amount} deposited in your account {self.accountNo}\")\n",
        "     return\n",
        "    else:\n",
        "      print(\"Amount value is in negative\")\n",
        "      return\n",
        "\n",
        "  def check_amount(self):\n",
        "    print(f\"Your account balance is {self.amount}\")\n"
      ],
      "metadata": {
        "id": "0Uxelzl2MT3f"
      },
      "execution_count": null,
      "outputs": []
    },
    {
      "cell_type": "code",
      "source": [
        "b1=BankAccount(123456,5000)\n",
        "b1.deposit(5000)\n",
        "b1.amount"
      ],
      "metadata": {
        "colab": {
          "base_uri": "https://localhost:8080/"
        },
        "id": "3HrBHl1IMqS2",
        "outputId": "f24b26c4-8115-4aa6-97dc-b041fe64bfde"
      },
      "execution_count": null,
      "outputs": [
        {
          "output_type": "stream",
          "name": "stdout",
          "text": [
            "Amount 5000 deposited in your account 123456\n"
          ]
        },
        {
          "output_type": "execute_result",
          "data": {
            "text/plain": [
              "10000"
            ]
          },
          "metadata": {},
          "execution_count": 51
        }
      ]
    },
    {
      "cell_type": "code",
      "source": [
        "class Bank:\n",
        "    def __init__(self, amount):\n",
        "        self.amount = amount\n",
        "\n",
        "    def get_balance(self):\n",
        "        return self.amount\n",
        "\n",
        "class Deposit(Bank):\n",
        "    def add_money(self, deposit_amount):\n",
        "        self.amount += deposit_amount\n",
        "\n",
        "account = Deposit(1000)\n",
        "\n",
        "deposit_amount = int(input(\"Enter deposit amount: \"))\n",
        "account.add_money(deposit_amount)\n",
        "\n",
        "print(\"Updated balance:\", account.get_balance())\n"
      ],
      "metadata": {
        "colab": {
          "base_uri": "https://localhost:8080/"
        },
        "id": "WjK8Eei4Lpip",
        "outputId": "9ac132b7-e183-447d-aad8-9f00461aca95"
      },
      "execution_count": null,
      "outputs": [
        {
          "output_type": "stream",
          "name": "stdout",
          "text": [
            "Enter deposit amount: 3434\n",
            "Updated balance: 4434\n"
          ]
        }
      ]
    },
    {
      "cell_type": "code",
      "source": [],
      "metadata": {
        "id": "RUod6XPVML4o"
      },
      "execution_count": null,
      "outputs": []
    }
  ]
}